{
 "cells": [
  {
   "cell_type": "markdown",
   "metadata": {},
   "source": [
    "#  Keras Intro: Shallow Models\n",
    "\n",
    "Keras Documentation: https://keras.io\n",
    "\n",
    "In this notebook we explore how to use Keras to implement 2 traditional Machine Learning models:\n",
    "- **Linear Regression** to predict continuous data\n",
    "- **Logistic Regression** to predict categorical data"
   ]
  },
  {
   "cell_type": "markdown",
   "metadata": {},
   "source": [
    "## Linear Regression"
   ]
  },
  {
   "cell_type": "code",
   "execution_count": 1,
   "metadata": {},
   "outputs": [],
   "source": [
    "%matplotlib inline\n",
    "import matplotlib.pyplot as plt\n",
    "import pandas as pd\n",
    "import numpy as np"
   ]
  },
  {
   "cell_type": "markdown",
   "metadata": {},
   "source": [
    "### 0. Load data"
   ]
  },
  {
   "cell_type": "code",
   "execution_count": 2,
   "metadata": {},
   "outputs": [],
   "source": [
    "df = pd.read_csv('../data/weight-height.csv')"
   ]
  },
  {
   "cell_type": "code",
   "execution_count": 3,
   "metadata": {},
   "outputs": [
    {
     "data": {
      "text/html": [
       "<div>\n",
       "<style scoped>\n",
       "    .dataframe tbody tr th:only-of-type {\n",
       "        vertical-align: middle;\n",
       "    }\n",
       "\n",
       "    .dataframe tbody tr th {\n",
       "        vertical-align: top;\n",
       "    }\n",
       "\n",
       "    .dataframe thead th {\n",
       "        text-align: right;\n",
       "    }\n",
       "</style>\n",
       "<table border=\"1\" class=\"dataframe\">\n",
       "  <thead>\n",
       "    <tr style=\"text-align: right;\">\n",
       "      <th></th>\n",
       "      <th>Gender</th>\n",
       "      <th>Height</th>\n",
       "      <th>Weight</th>\n",
       "    </tr>\n",
       "  </thead>\n",
       "  <tbody>\n",
       "    <tr>\n",
       "      <th>0</th>\n",
       "      <td>Male</td>\n",
       "      <td>73.847017</td>\n",
       "      <td>241.893563</td>\n",
       "    </tr>\n",
       "    <tr>\n",
       "      <th>1</th>\n",
       "      <td>Male</td>\n",
       "      <td>68.781904</td>\n",
       "      <td>162.310473</td>\n",
       "    </tr>\n",
       "    <tr>\n",
       "      <th>2</th>\n",
       "      <td>Male</td>\n",
       "      <td>74.110105</td>\n",
       "      <td>212.740856</td>\n",
       "    </tr>\n",
       "    <tr>\n",
       "      <th>3</th>\n",
       "      <td>Male</td>\n",
       "      <td>71.730978</td>\n",
       "      <td>220.042470</td>\n",
       "    </tr>\n",
       "    <tr>\n",
       "      <th>4</th>\n",
       "      <td>Male</td>\n",
       "      <td>69.881796</td>\n",
       "      <td>206.349801</td>\n",
       "    </tr>\n",
       "  </tbody>\n",
       "</table>\n",
       "</div>"
      ],
      "text/plain": [
       "  Gender     Height      Weight\n",
       "0   Male  73.847017  241.893563\n",
       "1   Male  68.781904  162.310473\n",
       "2   Male  74.110105  212.740856\n",
       "3   Male  71.730978  220.042470\n",
       "4   Male  69.881796  206.349801"
      ]
     },
     "execution_count": 3,
     "metadata": {},
     "output_type": "execute_result"
    }
   ],
   "source": [
    "df.head()"
   ]
  },
  {
   "cell_type": "code",
   "execution_count": 4,
   "metadata": {},
   "outputs": [
    {
     "data": {
      "text/plain": [
       "<matplotlib.axes._subplots.AxesSubplot at 0x7f5d49736978>"
      ]
     },
     "execution_count": 4,
     "metadata": {},
     "output_type": "execute_result"
    },
    {
     "data": {
      "image/png": "[encoded data removed]",
      "text/plain": [
       "<Figure size 432x288 with 1 Axes>"
      ]
     },
     "metadata": {
      "needs_background": "light"
     },
     "output_type": "display_data"
    }
   ],
   "source": [
    "df.plot(kind='scatter',\n",
    "        x='Height',\n",
    "        y='Weight',\n",
    "        title='Weight and Height in adults')"
   ]
  },
  {
   "cell_type": "markdown",
   "metadata": {},
   "source": [
    "### 1. Create Train/Test split"
   ]
  },
  {
   "cell_type": "code",
   "execution_count": 5,
   "metadata": {},
   "outputs": [],
   "source": [
    "from sklearn.model_selection import train_test_split"
   ]
  },
  {
   "cell_type": "code",
   "execution_count": 6,
   "metadata": {},
   "outputs": [],
   "source": [
    "X = df[['Height']].values\n",
    "y = df['Weight'].values\n",
    "\n",
    "X_train, X_test, y_train, y_test = train_test_split(X, y, \n",
    "    test_size = 0.3, random_state=0)"
   ]
  },
  {
   "cell_type": "markdown",
   "metadata": {},
   "source": [
    "### 2. Train Linear Regression Model"
   ]
  },
  {
   "cell_type": "code",
   "execution_count": 7,
   "metadata": {},
   "outputs": [
    {
     "name": "stderr",
     "output_type": "stream",
     "text": [
      "Using TensorFlow backend.\n"
     ]
    }
   ],
   "source": [
    "from keras.models import Sequential\n",
    "from keras.layers import Dense\n",
    "from keras.optimizers import Adam, SGD"
   ]
  },
  {
   "cell_type": "code",
   "execution_count": 8,
   "metadata": {},
   "outputs": [],
   "source": [
    "model = Sequential()"
   ]
  },
  {
   "cell_type": "code",
   "execution_count": 9,
   "metadata": {},
   "outputs": [],
   "source": [
    "model.add(Dense(1, input_shape=(1,)))"
   ]
  },
  {
   "cell_type": "code",
   "execution_count": 10,
   "metadata": {},
   "outputs": [
    {
     "name": "stdout",
     "output_type": "stream",
     "text": [
      "_________________________________________________________________\n",
      "Layer (type)                 Output Shape              Param #   \n",
      "=================================================================\n",
      "dense_1 (Dense)              (None, 1)                 2         \n",
      "=================================================================\n",
      "Total params: 2\n",
      "Trainable params: 2\n",
      "Non-trainable params: 0\n",
      "_________________________________________________________________\n"
     ]
    }
   ],
   "source": [
    "model.summary()"
   ]
  },
  {
   "cell_type": "code",
   "execution_count": 11,
   "metadata": {},
   "outputs": [],
   "source": [
    "model.compile(Adam(lr=0.9), 'mean_squared_error')"
   ]
  },
  {
   "cell_type": "code",
   "execution_count": 12,
   "metadata": {},
   "outputs": [
    {
     "name": "stdout",
     "output_type": "stream",
     "text": [
      "Epoch 1/40\n",
      "7000/7000 [==============================] - 2s 234us/step - loss: 1933.3472\n",
      "Epoch 2/40\n",
      "7000/7000 [==============================] - 1s 94us/step - loss: 581.2986\n",
      "Epoch 3/40\n",
      "7000/7000 [==============================] - 1s 95us/step - loss: 550.6148\n",
      "Epoch 4/40\n",
      "7000/7000 [==============================] - 1s 91us/step - loss: 551.9467\n",
      "Epoch 5/40\n",
      "7000/7000 [==============================] - 1s 92us/step - loss: 500.0851\n",
      "Epoch 6/40\n",
      "7000/7000 [==============================] - 1s 94us/step - loss: 467.7541\n",
      "Epoch 7/40\n",
      "7000/7000 [==============================] - 1s 91us/step - loss: 461.7035\n",
      "Epoch 8/40\n",
      "7000/7000 [==============================] - 1s 99us/step - loss: 432.4143\n",
      "Epoch 9/40\n",
      "7000/7000 [==============================] - 1s 93us/step - loss: 397.7420\n",
      "Epoch 10/40\n",
      "7000/7000 [==============================] - 1s 97us/step - loss: 360.2672\n",
      "Epoch 11/40\n",
      "7000/7000 [==============================] - 1s 94us/step - loss: 347.3385\n",
      "Epoch 12/40\n",
      "7000/7000 [==============================] - 1s 95us/step - loss: 331.5975\n",
      "Epoch 13/40\n",
      "7000/7000 [==============================] - 1s 99us/step - loss: 295.2191\n",
      "Epoch 14/40\n",
      "7000/7000 [==============================] - 1s 92us/step - loss: 285.3552\n",
      "Epoch 15/40\n",
      "7000/7000 [==============================] - 1s 99us/step - loss: 298.2115\n",
      "Epoch 16/40\n",
      "7000/7000 [==============================] - 1s 95us/step - loss: 263.4316\n",
      "Epoch 17/40\n",
      "7000/7000 [==============================] - 1s 99us/step - loss: 243.7945\n",
      "Epoch 18/40\n",
      "7000/7000 [==============================] - 1s 97us/step - loss: 254.3229\n",
      "Epoch 19/40\n",
      "7000/7000 [==============================] - 1s 111us/step - loss: 219.0668\n",
      "Epoch 20/40\n",
      "7000/7000 [==============================] - 1s 112us/step - loss: 207.8413\n",
      "Epoch 21/40\n",
      "7000/7000 [==============================] - 1s 118us/step - loss: 209.1176\n",
      "Epoch 22/40\n",
      "7000/7000 [==============================] - 1s 113us/step - loss: 193.6464\n",
      "Epoch 23/40\n",
      "7000/7000 [==============================] - 1s 107us/step - loss: 185.1483\n",
      "Epoch 24/40\n",
      "7000/7000 [==============================] - 1s 110us/step - loss: 217.0917\n",
      "Epoch 25/40\n",
      "7000/7000 [==============================] - 1s 122us/step - loss: 213.6990\n",
      "Epoch 26/40\n",
      "7000/7000 [==============================] - 1s 127us/step - loss: 185.0074\n",
      "Epoch 27/40\n",
      "7000/7000 [==============================] - 1s 112us/step - loss: 185.6636\n",
      "Epoch 28/40\n",
      "7000/7000 [==============================] - 1s 112us/step - loss: 202.0775\n",
      "Epoch 29/40\n",
      "7000/7000 [==============================] - 1s 111us/step - loss: 179.3655\n",
      "Epoch 30/40\n",
      "7000/7000 [==============================] - 1s 111us/step - loss: 197.4053\n",
      "Epoch 31/40\n",
      "7000/7000 [==============================] - 1s 114us/step - loss: 201.0465\n",
      "Epoch 32/40\n",
      "7000/7000 [==============================] - 1s 126us/step - loss: 175.8910\n",
      "Epoch 33/40\n",
      "7000/7000 [==============================] - 1s 119us/step - loss: 200.7878\n",
      "Epoch 34/40\n",
      "7000/7000 [==============================] - 1s 123us/step - loss: 185.2859\n",
      "Epoch 35/40\n",
      "7000/7000 [==============================] - 1s 114us/step - loss: 174.7149\n",
      "Epoch 36/40\n",
      "7000/7000 [==============================] - 1s 127us/step - loss: 178.8976\n",
      "Epoch 37/40\n",
      "7000/7000 [==============================] - 1s 135us/step - loss: 178.5734\n",
      "Epoch 38/40\n",
      "7000/7000 [==============================] - 1s 127us/step - loss: 181.5387\n",
      "Epoch 39/40\n",
      "7000/7000 [==============================] - 1s 130us/step - loss: 196.4052\n",
      "Epoch 40/40\n",
      "7000/7000 [==============================] - 1s 137us/step - loss: 178.6064\n"
     ]
    },
    {
     "data": {
      "text/plain": [
       "<keras.callbacks.History at 0x7f5d4e07f2e8>"
      ]
     },
     "execution_count": 12,
     "metadata": {},
     "output_type": "execute_result"
    }
   ],
   "source": [
    "model.fit(X_train, y_train, epochs=40)"
   ]
  },
  {
   "cell_type": "markdown",
   "metadata": {},
   "source": [
    "### 3. Evaluate Model Performance"
   ]
  },
  {
   "cell_type": "code",
   "execution_count": 13,
   "metadata": {},
   "outputs": [],
   "source": [
    "from sklearn.metrics import r2_score"
   ]
  },
  {
   "cell_type": "code",
   "execution_count": 14,
   "metadata": {},
   "outputs": [],
   "source": [
    "y_train_pred = model.predict(X_train).ravel()\n",
    "y_test_pred = model.predict(X_test).ravel()"
   ]
  },
  {
   "cell_type": "code",
   "execution_count": 15,
   "metadata": {},
   "outputs": [
    {
     "name": "stdout",
     "output_type": "stream",
     "text": [
      "The R2 score on the Train set is:\t0.851\n",
      "The R2 score on the Test set is:\t0.849\n"
     ]
    }
   ],
   "source": [
    "print(\"The R2 score on the Train set is:\\t{:0.3f}\".format(r2_score(y_train, y_train_pred)))\n",
    "print(\"The R2 score on the Test set is:\\t{:0.3f}\".format(r2_score(y_test, y_test_pred)))"
   ]
  },
  {
   "cell_type": "code",
   "execution_count": 16,
   "metadata": {},
   "outputs": [
    {
     "data": {
      "text/plain": [
       "[<matplotlib.lines.Line2D at 0x7f5cc82b0668>]"
      ]
     },
     "execution_count": 16,
     "metadata": {},
     "output_type": "execute_result"
    },
    {
     "data": {
      "image/png": "[encoded data removed]",
      "text/plain": [
       "<Figure size 432x288 with 1 Axes>"
      ]
     },
     "metadata": {
      "needs_background": "light"
     },
     "output_type": "display_data"
    }
   ],
   "source": [
    "df.plot(kind='scatter',\n",
    "        x='Height',\n",
    "        y='Weight',\n",
    "        title='Weight and Height in adults')\n",
    "plt.plot(X_test, y_test_pred, color='red')"
   ]
  },
  {
   "cell_type": "code",
   "execution_count": 17,
   "metadata": {},
   "outputs": [],
   "source": [
    "W, B = model.get_weights()"
   ]
  },
  {
   "cell_type": "code",
   "execution_count": 18,
   "metadata": {},
   "outputs": [
    {
     "data": {
      "text/plain": [
       "array([[7.551516]], dtype=float32)"
      ]
     },
     "execution_count": 18,
     "metadata": {},
     "output_type": "execute_result"
    }
   ],
   "source": [
    "W"
   ]
  },
  {
   "cell_type": "code",
   "execution_count": 19,
   "metadata": {},
   "outputs": [
    {
     "data": {
      "text/plain": [
       "array([-337.5881], dtype=float32)"
      ]
     },
     "execution_count": 19,
     "metadata": {},
     "output_type": "execute_result"
    }
   ],
   "source": [
    "B"
   ]
  },
  {
   "cell_type": "markdown",
   "metadata": {},
   "source": [
    "# Classification"
   ]
  },
  {
   "cell_type": "markdown",
   "metadata": {},
   "source": [
    "### 0. Load Data"
   ]
  },
  {
   "cell_type": "code",
   "execution_count": 20,
   "metadata": {},
   "outputs": [],
   "source": [
    "df = pd.read_csv('../data/user_visit_duration.csv')"
   ]
  },
  {
   "cell_type": "code",
   "execution_count": 21,
   "metadata": {},
   "outputs": [
    {
     "data": {
      "text/html": [
       "<div>\n",
       "<style scoped>\n",
       "    .dataframe tbody tr th:only-of-type {\n",
       "        vertical-align: middle;\n",
       "    }\n",
       "\n",
       "    .dataframe tbody tr th {\n",
       "        vertical-align: top;\n",
       "    }\n",
       "\n",
       "    .dataframe thead th {\n",
       "        text-align: right;\n",
       "    }\n",
       "</style>\n",
       "<table border=\"1\" class=\"dataframe\">\n",
       "  <thead>\n",
       "    <tr style=\"text-align: right;\">\n",
       "      <th></th>\n",
       "      <th>Time (min)</th>\n",
       "      <th>Buy</th>\n",
       "    </tr>\n",
       "  </thead>\n",
       "  <tbody>\n",
       "    <tr>\n",
       "      <th>0</th>\n",
       "      <td>2.000000</td>\n",
       "      <td>0</td>\n",
       "    </tr>\n",
       "    <tr>\n",
       "      <th>1</th>\n",
       "      <td>0.683333</td>\n",
       "      <td>0</td>\n",
       "    </tr>\n",
       "    <tr>\n",
       "      <th>2</th>\n",
       "      <td>3.216667</td>\n",
       "      <td>1</td>\n",
       "    </tr>\n",
       "    <tr>\n",
       "      <th>3</th>\n",
       "      <td>0.900000</td>\n",
       "      <td>0</td>\n",
       "    </tr>\n",
       "    <tr>\n",
       "      <th>4</th>\n",
       "      <td>1.533333</td>\n",
       "      <td>1</td>\n",
       "    </tr>\n",
       "  </tbody>\n",
       "</table>\n",
       "</div>"
      ],
      "text/plain": [
       "   Time (min)  Buy\n",
       "0    2.000000    0\n",
       "1    0.683333    0\n",
       "2    3.216667    1\n",
       "3    0.900000    0\n",
       "4    1.533333    1"
      ]
     },
     "execution_count": 21,
     "metadata": {},
     "output_type": "execute_result"
    }
   ],
   "source": [
    "df.head()"
   ]
  },
  {
   "cell_type": "code",
   "execution_count": 22,
   "metadata": {},
   "outputs": [
    {
     "data": {
      "text/plain": [
       "<matplotlib.axes._subplots.AxesSubplot at 0x7f5cdc068dd8>"
      ]
     },
     "execution_count": 22,
     "metadata": {},
     "output_type": "execute_result"
    },
    {
     "data": {
      "image/png": "[encoded data removed]",
      "text/plain": [
       "<Figure size 432x288 with 1 Axes>"
      ]
     },
     "metadata": {
      "needs_background": "light"
     },
     "output_type": "display_data"
    }
   ],
   "source": [
    "df.plot(kind='scatter', x='Time (min)', y='Buy')"
   ]
  },
  {
   "cell_type": "markdown",
   "metadata": {},
   "source": [
    "### 1. Create Train/Test split"
   ]
  },
  {
   "cell_type": "code",
   "execution_count": 23,
   "metadata": {},
   "outputs": [],
   "source": [
    "X = df[['Time (min)']].values\n",
    "y = df['Buy'].values"
   ]
  },
  {
   "cell_type": "code",
   "execution_count": 24,
   "metadata": {},
   "outputs": [],
   "source": [
    "X_train, X_test, y_train, y_test = train_test_split(X, y, \n",
    "    test_size = 0.3, random_state=0)"
   ]
  },
  {
   "cell_type": "markdown",
   "metadata": {},
   "source": [
    "### 2. Train Logistic Regression Model"
   ]
  },
  {
   "cell_type": "code",
   "execution_count": 25,
   "metadata": {},
   "outputs": [],
   "source": [
    "model = Sequential()"
   ]
  },
  {
   "cell_type": "code",
   "execution_count": 26,
   "metadata": {},
   "outputs": [],
   "source": [
    "model.add(Dense(1, input_shape=(1,), activation='sigmoid'))"
   ]
  },
  {
   "cell_type": "code",
   "execution_count": 27,
   "metadata": {},
   "outputs": [
    {
     "name": "stdout",
     "output_type": "stream",
     "text": [
      "_________________________________________________________________\n",
      "Layer (type)                 Output Shape              Param #   \n",
      "=================================================================\n",
      "dense_2 (Dense)              (None, 1)                 2         \n",
      "=================================================================\n",
      "Total params: 2\n",
      "Trainable params: 2\n",
      "Non-trainable params: 0\n",
      "_________________________________________________________________\n"
     ]
    }
   ],
   "source": [
    "model.summary()"
   ]
  },
  {
   "cell_type": "code",
   "execution_count": 28,
   "metadata": {},
   "outputs": [],
   "source": [
    "model.compile(SGD(lr=0.5), 'binary_crossentropy', metrics=['accuracy'])"
   ]
  },
  {
   "cell_type": "code",
   "execution_count": 29,
   "metadata": {},
   "outputs": [
    {
     "name": "stdout",
     "output_type": "stream",
     "text": [
      "Epoch 1/40\n",
      "70/70 [==============================] - 0s 3ms/step - loss: 0.6347 - acc: 0.5857\n",
      "Epoch 2/40\n",
      "70/70 [==============================] - 0s 179us/step - loss: 0.6151 - acc: 0.5857\n",
      "Epoch 3/40\n",
      "70/70 [==============================] - 0s 220us/step - loss: 0.6139 - acc: 0.6000\n",
      "Epoch 4/40\n",
      "70/70 [==============================] - 0s 221us/step - loss: 0.6189 - acc: 0.6000\n",
      "Epoch 5/40\n",
      "70/70 [==============================] - 0s 181us/step - loss: 0.5710 - acc: 0.8000\n",
      "Epoch 6/40\n",
      "70/70 [==============================] - 0s 180us/step - loss: 0.5507 - acc: 0.8000\n",
      "Epoch 7/40\n",
      "70/70 [==============================] - 0s 214us/step - loss: 0.5409 - acc: 0.7429\n",
      "Epoch 8/40\n",
      "70/70 [==============================] - 0s 211us/step - loss: 0.5392 - acc: 0.8000\n",
      "Epoch 9/40\n",
      "70/70 [==============================] - 0s 255us/step - loss: 0.5300 - acc: 0.7286\n",
      "Epoch 10/40\n",
      "70/70 [==============================] - 0s 223us/step - loss: 0.5285 - acc: 0.7857\n",
      "Epoch 11/40\n",
      "70/70 [==============================] - 0s 187us/step - loss: 0.5897 - acc: 0.6429\n",
      "Epoch 12/40\n",
      "70/70 [==============================] - 0s 207us/step - loss: 0.5010 - acc: 0.7714\n",
      "Epoch 13/40\n",
      "70/70 [==============================] - 0s 188us/step - loss: 0.5341 - acc: 0.7714\n",
      "Epoch 14/40\n",
      "70/70 [==============================] - 0s 219us/step - loss: 0.5723 - acc: 0.6857\n",
      "Epoch 15/40\n",
      "70/70 [==============================] - 0s 186us/step - loss: 0.4842 - acc: 0.7857\n",
      "Epoch 16/40\n",
      "70/70 [==============================] - 0s 263us/step - loss: 0.4776 - acc: 0.7857\n",
      "Epoch 17/40\n",
      "70/70 [==============================] - 0s 193us/step - loss: 0.4819 - acc: 0.7714\n",
      "Epoch 18/40\n",
      "70/70 [==============================] - 0s 200us/step - loss: 0.4817 - acc: 0.8000\n",
      "Epoch 19/40\n",
      "70/70 [==============================] - 0s 230us/step - loss: 0.4659 - acc: 0.7714\n",
      "Epoch 20/40\n",
      "70/70 [==============================] - 0s 189us/step - loss: 0.4671 - acc: 0.7714\n",
      "Epoch 21/40\n",
      "70/70 [==============================] - 0s 228us/step - loss: 0.4763 - acc: 0.7714\n",
      "Epoch 22/40\n",
      "70/70 [==============================] - 0s 234us/step - loss: 0.4566 - acc: 0.7857\n",
      "Epoch 23/40\n",
      "70/70 [==============================] - 0s 259us/step - loss: 0.4597 - acc: 0.7857\n",
      "Epoch 24/40\n",
      "70/70 [==============================] - 0s 249us/step - loss: 0.4773 - acc: 0.7429\n",
      "Epoch 25/40\n",
      "70/70 [==============================] - 0s 225us/step - loss: 0.4490 - acc: 0.7714\n",
      "Epoch 26/40\n",
      "70/70 [==============================] - 0s 199us/step - loss: 0.4650 - acc: 0.8000\n",
      "Epoch 27/40\n",
      "70/70 [==============================] - 0s 239us/step - loss: 0.4494 - acc: 0.7857\n",
      "Epoch 28/40\n",
      "70/70 [==============================] - 0s 145us/step - loss: 0.4599 - acc: 0.7714\n",
      "Epoch 29/40\n",
      "70/70 [==============================] - 0s 197us/step - loss: 0.4435 - acc: 0.7571\n",
      "Epoch 30/40\n",
      "70/70 [==============================] - 0s 225us/step - loss: 0.4529 - acc: 0.7714\n",
      "Epoch 31/40\n",
      "70/70 [==============================] - 0s 183us/step - loss: 0.4472 - acc: 0.7714\n",
      "Epoch 32/40\n",
      "70/70 [==============================] - 0s 207us/step - loss: 0.4368 - acc: 0.7714\n",
      "Epoch 33/40\n",
      "70/70 [==============================] - 0s 198us/step - loss: 0.4500 - acc: 0.7714\n",
      "Epoch 34/40\n",
      "70/70 [==============================] - 0s 172us/step - loss: 0.4371 - acc: 0.7857\n",
      "Epoch 35/40\n",
      "70/70 [==============================] - 0s 233us/step - loss: 0.4372 - acc: 0.8000\n",
      "Epoch 36/40\n",
      "70/70 [==============================] - 0s 225us/step - loss: 0.4366 - acc: 0.7857\n",
      "Epoch 37/40\n",
      "70/70 [==============================] - 0s 218us/step - loss: 0.4529 - acc: 0.7857\n",
      "Epoch 38/40\n",
      "70/70 [==============================] - 0s 206us/step - loss: 0.4332 - acc: 0.7857\n",
      "Epoch 39/40\n",
      "70/70 [==============================] - 0s 201us/step - loss: 0.4308 - acc: 0.7857\n",
      "Epoch 40/40\n",
      "70/70 [==============================] - 0s 188us/step - loss: 0.4418 - acc: 0.7857\n"
     ]
    },
    {
     "data": {
      "text/plain": [
       "<keras.callbacks.History at 0x7f5cc827d438>"
      ]
     },
     "execution_count": 29,
     "metadata": {},
     "output_type": "execute_result"
    }
   ],
   "source": [
    "model.fit(X_train, y_train, epochs=40)"
   ]
  },
  {
   "cell_type": "code",
   "execution_count": 30,
   "metadata": {},
   "outputs": [
    {
     "data": {
      "text/plain": [
       "<matplotlib.legend.Legend at 0x7f5c680fc5f8>"
      ]
     },
     "execution_count": 30,
     "metadata": {},
     "output_type": "execute_result"
    },
    {
     "data": {
      "image/png": "[encoded data removed]",
      "text/plain": [
       "<Figure size 432x288 with 1 Axes>"
      ]
     },
     "metadata": {
      "needs_background": "light"
     },
     "output_type": "display_data"
    }
   ],
   "source": [
    "ax = df.plot(kind='scatter', x='Time (min)', y='Buy',\n",
    "             title='Purchase behavior VS time spent on site')\n",
    "\n",
    "t = np.linspace(0, 4)\n",
    "ax.plot(t, model.predict(t), color='orange')\n",
    "\n",
    "plt.legend(['model', 'data'])"
   ]
  },
  {
   "cell_type": "markdown",
   "metadata": {},
   "source": [
    "### 3. Evaluate Model Performance"
   ]
  },
  {
   "cell_type": "markdown",
   "metadata": {},
   "source": [
    "scikit:\n",
    "    - model.predict -> classes\n",
    "    - model.predict_proba -> proba\n",
    "keras:\n",
    "    - model.predict -> proba\n",
    "    - model.predict_classes -> classes"
   ]
  },
  {
   "cell_type": "markdown",
   "metadata": {},
   "source": [
    "#### Accuracy"
   ]
  },
  {
   "cell_type": "code",
   "execution_count": 31,
   "metadata": {},
   "outputs": [],
   "source": [
    "from sklearn.metrics import accuracy_score\n",
    "model.pr"
   ]
  },
  {
   "cell_type": "code",
   "execution_count": 32,
   "metadata": {},
   "outputs": [],
   "source": [
    "y_train_pred = model.predict_classes(X_train)\n",
    "y_test_pred = model.predict_classes(X_test)"
   ]
  },
  {
   "cell_type": "code",
   "execution_count": 33,
   "metadata": {},
   "outputs": [
    {
     "name": "stdout",
     "output_type": "stream",
     "text": [
      "The train accuracy score is 0.757\n",
      "The test accuracy score is 0.867\n"
     ]
    }
   ],
   "source": [
    "print(\"The train accuracy score is {:0.3f}\".format(accuracy_score(y_train, y_train_pred)))\n",
    "print(\"The test accuracy score is {:0.3f}\".format(accuracy_score(y_test, y_test_pred)))"
   ]
  },
  {
   "cell_type": "markdown",
   "metadata": {},
   "source": [
    "#### Confusion Matrix & Classification Report"
   ]
  },
  {
   "cell_type": "code",
   "execution_count": 34,
   "metadata": {},
   "outputs": [],
   "source": [
    "from sklearn.metrics import confusion_matrix"
   ]
  },
  {
   "cell_type": "code",
   "execution_count": 35,
   "metadata": {
    "scrolled": false
   },
   "outputs": [
    {
     "data": {
      "text/plain": [
       "array([[13,  3],\n",
       "       [ 1, 13]])"
      ]
     },
     "execution_count": 35,
     "metadata": {},
     "output_type": "execute_result"
    }
   ],
   "source": [
    "confusion_matrix(y_test, y_test_pred)"
   ]
  },
  {
   "cell_type": "code",
   "execution_count": 36,
   "metadata": {},
   "outputs": [],
   "source": [
    "def pretty_confusion_matrix(y_true, y_pred, labels=[\"False\", \"True\"]):\n",
    "    cm = confusion_matrix(y_true, y_pred)\n",
    "    pred_labels = ['Predicted '+ l for l in labels]\n",
    "    df = pd.DataFrame(cm, index=labels, columns=pred_labels)\n",
    "    return df"
   ]
  },
  {
   "cell_type": "code",
   "execution_count": 37,
   "metadata": {},
   "outputs": [
    {
     "data": {
      "text/html": [
       "<div>\n",
       "<style scoped>\n",
       "    .dataframe tbody tr th:only-of-type {\n",
       "        vertical-align: middle;\n",
       "    }\n",
       "\n",
       "    .dataframe tbody tr th {\n",
       "        vertical-align: top;\n",
       "    }\n",
       "\n",
       "    .dataframe thead th {\n",
       "        text-align: right;\n",
       "    }\n",
       "</style>\n",
       "<table border=\"1\" class=\"dataframe\">\n",
       "  <thead>\n",
       "    <tr style=\"text-align: right;\">\n",
       "      <th></th>\n",
       "      <th>Predicted Not Buy</th>\n",
       "      <th>Predicted Buy</th>\n",
       "    </tr>\n",
       "  </thead>\n",
       "  <tbody>\n",
       "    <tr>\n",
       "      <th>Not Buy</th>\n",
       "      <td>13</td>\n",
       "      <td>3</td>\n",
       "    </tr>\n",
       "    <tr>\n",
       "      <th>Buy</th>\n",
       "      <td>1</td>\n",
       "      <td>13</td>\n",
       "    </tr>\n",
       "  </tbody>\n",
       "</table>\n",
       "</div>"
      ],
      "text/plain": [
       "         Predicted Not Buy  Predicted Buy\n",
       "Not Buy                 13              3\n",
       "Buy                      1             13"
      ]
     },
     "execution_count": 37,
     "metadata": {},
     "output_type": "execute_result"
    }
   ],
   "source": [
    "pretty_confusion_matrix(y_test, y_test_pred, ['Not Buy', 'Buy'])"
   ]
  },
  {
   "cell_type": "code",
   "execution_count": 38,
   "metadata": {},
   "outputs": [],
   "source": [
    "from sklearn.metrics import classification_report"
   ]
  },
  {
   "cell_type": "code",
   "execution_count": 39,
   "metadata": {},
   "outputs": [
    {
     "name": "stdout",
     "output_type": "stream",
     "text": [
      "             precision    recall  f1-score   support\n",
      "\n",
      "          0       0.93      0.81      0.87        16\n",
      "          1       0.81      0.93      0.87        14\n",
      "\n",
      "avg / total       0.87      0.87      0.87        30\n",
      "\n"
     ]
    }
   ],
   "source": [
    "print(classification_report(y_test, y_test_pred))"
   ]
  },
  {
   "cell_type": "markdown",
   "metadata": {},
   "source": [
    "## Exercise"
   ]
  },
  {
   "cell_type": "markdown",
   "metadata": {},
   "source": [
    "You've just been hired at a real estate investment firm and they would like you to build a model for pricing houses. You are given a dataset that contains data for house prices and a few features like number of bedrooms, size in square feet and age of the house. Let's see if you can build a model that is able to predict the price. In this exercise we extend what we have learned about linear regression to a dataset with more than one feature. Here are the steps to complete it:\n",
    "\n",
    "1. Load the dataset ../data/housing-data.csv\n",
    "- create 2 variables called X and y: X shall be a matrix with 3 columns (sqft,bdrms,age) and y shall be a vector with 1 column (price)\n",
    "- create a linear regression model in Keras with the appropriate number of inputs and output\n",
    "- split the data into train and test with a 20% test size, use `random_state=0` for consistency with classmates\n",
    "- train the model on the training set and check its accuracy on training and test set\n",
    "- how's your model doing? Is the loss decreasing?\n",
    "- try to improve your model with these experiments:\n",
    "    - normalize the input features:\n",
    "        - divide sqft by 1000\n",
    "        - divide age by 10\n",
    "        - divide price by 100000\n",
    "    - use a different value for the learning rate of your model\n",
    "    - use a different optimizer\n",
    "- once you're satisfied with training, check the R2score on the test set"
   ]
  },
  {
   "cell_type": "code",
   "execution_count": null,
   "metadata": {
    "collapsed": true
   },
   "outputs": [],
   "source": []
  }
 ],
 "metadata": {
  "kernelspec": {
   "display_name": "Python 3",
   "language": "python",
   "name": "python3"
  },
  "language_info": {
   "codemirror_mode": {
    "name": "ipython",
    "version": 3
   },
   "file_extension": ".py",
   "mimetype": "text/x-python",
   "name": "python",
   "nbconvert_exporter": "python",
   "pygments_lexer": "ipython3",
   "version": "3.6.6"
  }
 },
 "nbformat": 4,
 "nbformat_minor": 2
}
