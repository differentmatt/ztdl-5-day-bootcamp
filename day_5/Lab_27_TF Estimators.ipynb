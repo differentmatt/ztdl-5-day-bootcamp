{
 "cells": [
  {
   "cell_type": "markdown",
   "metadata": {},
   "source": [
    "# Tensorflow Estimators"
   ]
  },
  {
   "cell_type": "code",
   "execution_count": 1,
   "metadata": {},
   "outputs": [],
   "source": [
    "import tensorflow as tf\n",
    "import pandas as pd"
   ]
  },
  {
   "cell_type": "code",
   "execution_count": 2,
   "metadata": {},
   "outputs": [],
   "source": [
    "df = pd.read_csv('../data/iris.csv')"
   ]
  },
  {
   "cell_type": "code",
   "execution_count": 3,
   "metadata": {},
   "outputs": [
    {
     "data": {
      "text/html": [
       "<div>\n",
       "<style scoped>\n",
       "    .dataframe tbody tr th:only-of-type {\n",
       "        vertical-align: middle;\n",
       "    }\n",
       "\n",
       "    .dataframe tbody tr th {\n",
       "        vertical-align: top;\n",
       "    }\n",
       "\n",
       "    .dataframe thead th {\n",
       "        text-align: right;\n",
       "    }\n",
       "</style>\n",
       "<table border=\"1\" class=\"dataframe\">\n",
       "  <thead>\n",
       "    <tr style=\"text-align: right;\">\n",
       "      <th></th>\n",
       "      <th>sepal_length</th>\n",
       "      <th>sepal_width</th>\n",
       "      <th>petal_length</th>\n",
       "      <th>petal_width</th>\n",
       "      <th>species</th>\n",
       "    </tr>\n",
       "  </thead>\n",
       "  <tbody>\n",
       "    <tr>\n",
       "      <th>0</th>\n",
       "      <td>5.1</td>\n",
       "      <td>3.5</td>\n",
       "      <td>1.4</td>\n",
       "      <td>0.2</td>\n",
       "      <td>setosa</td>\n",
       "    </tr>\n",
       "    <tr>\n",
       "      <th>1</th>\n",
       "      <td>4.9</td>\n",
       "      <td>3.0</td>\n",
       "      <td>1.4</td>\n",
       "      <td>0.2</td>\n",
       "      <td>setosa</td>\n",
       "    </tr>\n",
       "    <tr>\n",
       "      <th>2</th>\n",
       "      <td>4.7</td>\n",
       "      <td>3.2</td>\n",
       "      <td>1.3</td>\n",
       "      <td>0.2</td>\n",
       "      <td>setosa</td>\n",
       "    </tr>\n",
       "    <tr>\n",
       "      <th>3</th>\n",
       "      <td>4.6</td>\n",
       "      <td>3.1</td>\n",
       "      <td>1.5</td>\n",
       "      <td>0.2</td>\n",
       "      <td>setosa</td>\n",
       "    </tr>\n",
       "    <tr>\n",
       "      <th>4</th>\n",
       "      <td>5.0</td>\n",
       "      <td>3.6</td>\n",
       "      <td>1.4</td>\n",
       "      <td>0.2</td>\n",
       "      <td>setosa</td>\n",
       "    </tr>\n",
       "  </tbody>\n",
       "</table>\n",
       "</div>"
      ],
      "text/plain": [
       "   sepal_length  sepal_width  petal_length  petal_width species\n",
       "0           5.1          3.5           1.4          0.2  setosa\n",
       "1           4.9          3.0           1.4          0.2  setosa\n",
       "2           4.7          3.2           1.3          0.2  setosa\n",
       "3           4.6          3.1           1.5          0.2  setosa\n",
       "4           5.0          3.6           1.4          0.2  setosa"
      ]
     },
     "execution_count": 3,
     "metadata": {},
     "output_type": "execute_result"
    }
   ],
   "source": [
    "df.head()"
   ]
  },
  {
   "cell_type": "code",
   "execution_count": 4,
   "metadata": {},
   "outputs": [],
   "source": [
    "X = df.drop('species', axis='columns')\n",
    "y = df['species']\n",
    "\n",
    "column_names = df.columns[:-1]"
   ]
  },
  {
   "cell_type": "code",
   "execution_count": 5,
   "metadata": {},
   "outputs": [],
   "source": [
    "from sklearn.model_selection import train_test_split"
   ]
  },
  {
   "cell_type": "code",
   "execution_count": 6,
   "metadata": {},
   "outputs": [],
   "source": [
    "X_train, X_test, y_train, y_test = train_test_split(X, y, test_size=0.3, random_state=0)"
   ]
  },
  {
   "cell_type": "code",
   "execution_count": 7,
   "metadata": {},
   "outputs": [
    {
     "data": {
      "text/plain": [
       "60     versicolor\n",
       "116     virginica\n",
       "144     virginica\n",
       "119     virginica\n",
       "108     virginica\n",
       "Name: species, dtype: object"
      ]
     },
     "execution_count": 7,
     "metadata": {},
     "output_type": "execute_result"
    }
   ],
   "source": [
    "y_train.head()"
   ]
  },
  {
   "cell_type": "code",
   "execution_count": 8,
   "metadata": {},
   "outputs": [],
   "source": [
    "labels = ['setosa', 'versicolor', 'virginica']"
   ]
  },
  {
   "cell_type": "code",
   "execution_count": 26,
   "metadata": {},
   "outputs": [],
   "source": [
    "# TODO: what's up with this Python?\n",
    "feature_columns = [\n",
    "    tf.feature_column.numeric_column(key=key)\n",
    "    for key in X_train.columns\n",
    "]"
   ]
  },
  {
   "cell_type": "code",
   "execution_count": 32,
   "metadata": {},
   "outputs": [
    {
     "data": {
      "text/plain": [
       "[_NumericColumn(key='sepal_length', shape=(1,), default_value=None, dtype=tf.float32, normalizer_fn=None),\n",
       " _NumericColumn(key='sepal_width', shape=(1,), default_value=None, dtype=tf.float32, normalizer_fn=None),\n",
       " _NumericColumn(key='petal_length', shape=(1,), default_value=None, dtype=tf.float32, normalizer_fn=None),\n",
       " _NumericColumn(key='petal_width', shape=(1,), default_value=None, dtype=tf.float32, normalizer_fn=None)]"
      ]
     },
     "execution_count": 32,
     "metadata": {},
     "output_type": "execute_result"
    }
   ],
   "source": [
    "feature_columns"
   ]
  },
  {
   "cell_type": "markdown",
   "metadata": {},
   "source": [
    "## Canned Estimators"
   ]
  },
  {
   "cell_type": "code",
   "execution_count": 11,
   "metadata": {},
   "outputs": [],
   "source": [
    "rm -rf ./models/iris/"
   ]
  },
  {
   "cell_type": "code",
   "execution_count": 12,
   "metadata": {},
   "outputs": [
    {
     "name": "stdout",
     "output_type": "stream",
     "text": [
      "INFO:tensorflow:Using default config.\n",
      "INFO:tensorflow:Using config: {'_model_dir': './models/iris/DNN/', '_tf_random_seed': None, '_save_summary_steps': 100, '_save_checkpoints_steps': None, '_save_checkpoints_secs': 600, '_session_config': None, '_keep_checkpoint_max': 5, '_keep_checkpoint_every_n_hours': 10000, '_log_step_count_steps': 100, '_train_distribute': None, '_device_fn': None, '_service': None, '_cluster_spec': <tensorflow.python.training.server_lib.ClusterSpec object at 0x7fc97d0ae9b0>, '_task_type': 'worker', '_task_id': 0, '_global_id_in_cluster': 0, '_master': '', '_evaluation_master': '', '_is_chief': True, '_num_ps_replicas': 0, '_num_worker_replicas': 1}\n"
     ]
    }
   ],
   "source": [
    "# Specifying everything in classifier specification\n",
    "model = tf.estimator.DNNClassifier(\n",
    "    hidden_units=[10, 10], \n",
    "    feature_columns=feature_columns,\n",
    "    model_dir='./models/iris/DNN/',\n",
    "    n_classes=3,\n",
    "    label_vocabulary=labels,\n",
    "    optimizer='Adam')"
   ]
  },
  {
   "cell_type": "code",
   "execution_count": 13,
   "metadata": {},
   "outputs": [],
   "source": [
    "batch_size=32\n",
    "train_steps=3000"
   ]
  },
  {
   "cell_type": "markdown",
   "metadata": {},
   "source": [
    "### Input function"
   ]
  },
  {
   "cell_type": "code",
   "execution_count": 33,
   "metadata": {},
   "outputs": [],
   "source": [
    "# Tells estimator how to read features\n",
    "def input_fn(features, labels, batch_size, shuffle=True, repeat=None):\n",
    "    feature_dict = dict(features)\n",
    "\n",
    "    if labels is None:\n",
    "        inputs = feature_dict\n",
    "    else:\n",
    "        inputs = (feature_dict, labels)\n",
    "        \n",
    "    dataset = tf.data.Dataset.from_tensor_slices(inputs)\n",
    "    \n",
    "    if shuffle:\n",
    "        dataset = dataset.shuffle(1000)\n",
    "    \n",
    "    dataset = dataset.repeat(repeat)\n",
    "\n",
    "    return dataset.batch(batch_size)"
   ]
  },
  {
   "cell_type": "code",
   "execution_count": 15,
   "metadata": {},
   "outputs": [],
   "source": [
    "def train_input_fn():\n",
    "    return input_fn(X_train, y_train, batch_size)"
   ]
  },
  {
   "cell_type": "markdown",
   "metadata": {},
   "source": [
    "### Model Training"
   ]
  },
  {
   "cell_type": "code",
   "execution_count": 34,
   "metadata": {},
   "outputs": [
    {
     "name": "stdout",
     "output_type": "stream",
     "text": [
      "INFO:tensorflow:Calling model_fn.\n",
      "INFO:tensorflow:Done calling model_fn.\n",
      "INFO:tensorflow:Create CheckpointSaverHook.\n",
      "INFO:tensorflow:Graph was finalized.\n",
      "INFO:tensorflow:Restoring parameters from ./models/iris/DNN/model.ckpt-3000\n",
      "INFO:tensorflow:Running local_init_op.\n",
      "INFO:tensorflow:Done running local_init_op.\n",
      "INFO:tensorflow:Saving checkpoints for 3000 into ./models/iris/DNN/model.ckpt.\n",
      "INFO:tensorflow:loss = 3.9633923, step = 3000\n",
      "INFO:tensorflow:global_step/sec: 238.506\n",
      "INFO:tensorflow:loss = 3.2374473, step = 3100 (0.425 sec)\n",
      "INFO:tensorflow:global_step/sec: 276.138\n",
      "INFO:tensorflow:loss = 0.46077362, step = 3200 (0.358 sec)\n",
      "INFO:tensorflow:global_step/sec: 280.456\n",
      "INFO:tensorflow:loss = 2.5393662, step = 3300 (0.356 sec)\n",
      "INFO:tensorflow:global_step/sec: 279.738\n",
      "INFO:tensorflow:loss = 0.254938, step = 3400 (0.359 sec)\n",
      "INFO:tensorflow:global_step/sec: 255.216\n",
      "INFO:tensorflow:loss = 0.61123836, step = 3500 (0.391 sec)\n",
      "INFO:tensorflow:global_step/sec: 279.047\n",
      "INFO:tensorflow:loss = 0.08542849, step = 3600 (0.358 sec)\n",
      "INFO:tensorflow:global_step/sec: 295.281\n",
      "INFO:tensorflow:loss = 0.93993384, step = 3700 (0.339 sec)\n",
      "INFO:tensorflow:global_step/sec: 299.3\n",
      "INFO:tensorflow:loss = 0.0007513508, step = 3800 (0.333 sec)\n",
      "INFO:tensorflow:global_step/sec: 294.718\n",
      "INFO:tensorflow:loss = 0.74097615, step = 3900 (0.340 sec)\n",
      "INFO:tensorflow:global_step/sec: 300.548\n",
      "INFO:tensorflow:loss = 7.150031, step = 4000 (0.332 sec)\n",
      "INFO:tensorflow:global_step/sec: 294.431\n",
      "INFO:tensorflow:loss = 0.96304405, step = 4100 (0.340 sec)\n",
      "INFO:tensorflow:global_step/sec: 297.287\n",
      "INFO:tensorflow:loss = 0.4042841, step = 4200 (0.336 sec)\n",
      "INFO:tensorflow:global_step/sec: 281.978\n",
      "INFO:tensorflow:loss = 0.97316027, step = 4300 (0.354 sec)\n",
      "INFO:tensorflow:global_step/sec: 306.482\n",
      "INFO:tensorflow:loss = 1.0076265, step = 4400 (0.328 sec)\n",
      "INFO:tensorflow:global_step/sec: 301.748\n",
      "INFO:tensorflow:loss = 0.56968886, step = 4500 (0.329 sec)\n",
      "INFO:tensorflow:global_step/sec: 308.3\n",
      "INFO:tensorflow:loss = 1.0700203, step = 4600 (0.325 sec)\n",
      "INFO:tensorflow:global_step/sec: 286.961\n",
      "INFO:tensorflow:loss = 0.591623, step = 4700 (0.350 sec)\n",
      "INFO:tensorflow:global_step/sec: 301.968\n",
      "INFO:tensorflow:loss = 3.1481237, step = 4800 (0.330 sec)\n",
      "INFO:tensorflow:global_step/sec: 302.14\n",
      "INFO:tensorflow:loss = 0.14183623, step = 4900 (0.331 sec)\n",
      "INFO:tensorflow:global_step/sec: 296.3\n",
      "INFO:tensorflow:loss = 1.2401383, step = 5000 (0.338 sec)\n",
      "INFO:tensorflow:global_step/sec: 302.578\n",
      "INFO:tensorflow:loss = 0.12389954, step = 5100 (0.330 sec)\n",
      "INFO:tensorflow:global_step/sec: 301.441\n",
      "INFO:tensorflow:loss = 2.0741189, step = 5200 (0.331 sec)\n",
      "INFO:tensorflow:global_step/sec: 295.264\n",
      "INFO:tensorflow:loss = 1.5260818, step = 5300 (0.339 sec)\n",
      "INFO:tensorflow:global_step/sec: 301.257\n",
      "INFO:tensorflow:loss = 1.8054602, step = 5400 (0.332 sec)\n",
      "INFO:tensorflow:global_step/sec: 300.52\n",
      "INFO:tensorflow:loss = 1.081625, step = 5500 (0.333 sec)\n",
      "INFO:tensorflow:global_step/sec: 295.321\n",
      "INFO:tensorflow:loss = 1.5583174, step = 5600 (0.338 sec)\n",
      "INFO:tensorflow:global_step/sec: 299.193\n",
      "INFO:tensorflow:loss = 0.03741184, step = 5700 (0.334 sec)\n",
      "INFO:tensorflow:global_step/sec: 304.848\n",
      "INFO:tensorflow:loss = 0.38940203, step = 5800 (0.334 sec)\n",
      "INFO:tensorflow:global_step/sec: 296.246\n",
      "INFO:tensorflow:loss = 0.50095356, step = 5900 (0.332 sec)\n",
      "INFO:tensorflow:Saving checkpoints for 6000 into ./models/iris/DNN/model.ckpt.\n",
      "INFO:tensorflow:Loss for final step: 1.481979.\n"
     ]
    },
    {
     "data": {
      "text/plain": [
       "<tensorflow.python.estimator.canned.dnn.DNNClassifier at 0x7fc980f85278>"
      ]
     },
     "execution_count": 34,
     "metadata": {},
     "output_type": "execute_result"
    }
   ],
   "source": [
    "# Notice not using eager execution\n",
    "# Not that interesting on 1 machine, but translates to multiple machines better\n",
    "model.train(\n",
    "    input_fn=train_input_fn,\n",
    "    steps=3000)"
   ]
  },
  {
   "cell_type": "markdown",
   "metadata": {},
   "source": [
    "### Evaluate model on train and test data"
   ]
  },
  {
   "cell_type": "code",
   "execution_count": 17,
   "metadata": {},
   "outputs": [
    {
     "name": "stdout",
     "output_type": "stream",
     "text": [
      "INFO:tensorflow:Calling model_fn.\n",
      "INFO:tensorflow:Done calling model_fn.\n",
      "INFO:tensorflow:Starting evaluation at 2018-09-21-17:12:26\n",
      "INFO:tensorflow:Graph was finalized.\n",
      "INFO:tensorflow:Restoring parameters from ./models/iris/DNN/model.ckpt-3000\n",
      "INFO:tensorflow:Running local_init_op.\n",
      "INFO:tensorflow:Done running local_init_op.\n",
      "INFO:tensorflow:Finished evaluation at 2018-09-21-17:12:26\n",
      "INFO:tensorflow:Saving dict for global step 3000: accuracy = 0.9809524, average_loss = 0.040506937, global_step = 3000, loss = 1.063307\n",
      "INFO:tensorflow:Saving 'checkpoint_path' summary for global step 3000: ./models/iris/DNN/model.ckpt-3000\n",
      "INFO:tensorflow:Calling model_fn.\n",
      "INFO:tensorflow:Done calling model_fn.\n",
      "INFO:tensorflow:Starting evaluation at 2018-09-21-17:12:27\n",
      "INFO:tensorflow:Graph was finalized.\n",
      "INFO:tensorflow:Restoring parameters from ./models/iris/DNN/model.ckpt-3000\n",
      "INFO:tensorflow:Running local_init_op.\n",
      "INFO:tensorflow:Done running local_init_op.\n",
      "INFO:tensorflow:Finished evaluation at 2018-09-21-17:12:27\n",
      "INFO:tensorflow:Saving dict for global step 3000: accuracy = 0.9777778, average_loss = 0.14957264, global_step = 3000, loss = 3.3653846\n",
      "INFO:tensorflow:Saving 'checkpoint_path' summary for global step 3000: ./models/iris/DNN/model.ckpt-3000\n"
     ]
    }
   ],
   "source": [
    "train_eval_result = model.evaluate(\n",
    "    input_fn=lambda:input_fn(X_train, y_train,\n",
    "                             batch_size,\n",
    "                             shuffle=False,\n",
    "                             repeat=1))\n",
    "\n",
    "test_eval_result = model.evaluate(\n",
    "    input_fn=lambda:input_fn(X_test, y_test,\n",
    "                             batch_size,\n",
    "                             shuffle=False,\n",
    "                             repeat=1))"
   ]
  },
  {
   "cell_type": "code",
   "execution_count": 18,
   "metadata": {},
   "outputs": [
    {
     "data": {
      "text/plain": [
       "{'accuracy': 0.9809524,\n",
       " 'average_loss': 0.040506937,\n",
       " 'loss': 1.063307,\n",
       " 'global_step': 3000}"
      ]
     },
     "execution_count": 18,
     "metadata": {},
     "output_type": "execute_result"
    }
   ],
   "source": [
    "train_eval_result"
   ]
  },
  {
   "cell_type": "code",
   "execution_count": 19,
   "metadata": {},
   "outputs": [
    {
     "data": {
      "text/plain": [
       "{'accuracy': 0.9777778,\n",
       " 'average_loss': 0.14957264,\n",
       " 'loss': 3.3653846,\n",
       " 'global_step': 3000}"
      ]
     },
     "execution_count": 19,
     "metadata": {},
     "output_type": "execute_result"
    }
   ],
   "source": [
    "test_eval_result"
   ]
  },
  {
   "cell_type": "markdown",
   "metadata": {},
   "source": [
    "### Predict on new data"
   ]
  },
  {
   "cell_type": "code",
   "execution_count": 20,
   "metadata": {},
   "outputs": [],
   "source": [
    "predict_x = {\n",
    "    'sepal_length': [5.1, 5.9, 6.9],\n",
    "    'sepal_width': [3.3, 3.0, 3.1],\n",
    "    'petal_length': [1.7, 4.2, 5.4],\n",
    "    'petal_width': [0.5, 1.5, 2.1],\n",
    "}"
   ]
  },
  {
   "cell_type": "code",
   "execution_count": 21,
   "metadata": {},
   "outputs": [],
   "source": [
    "expected = ['setosa', 'versicolor', 'virginica']"
   ]
  },
  {
   "cell_type": "code",
   "execution_count": 22,
   "metadata": {},
   "outputs": [],
   "source": [
    "predictions = model.predict(\n",
    "    input_fn=lambda:input_fn(predict_x,\n",
    "                             labels=None,\n",
    "                             batch_size=batch_size,\n",
    "                             shuffle=False,\n",
    "                             repeat=1))"
   ]
  },
  {
   "cell_type": "code",
   "execution_count": 23,
   "metadata": {},
   "outputs": [
    {
     "data": {
      "text/plain": [
       "<generator object Estimator.predict at 0x7fc943838570>"
      ]
     },
     "execution_count": 23,
     "metadata": {},
     "output_type": "execute_result"
    }
   ],
   "source": [
    "predictions"
   ]
  },
  {
   "cell_type": "code",
   "execution_count": 24,
   "metadata": {},
   "outputs": [
    {
     "name": "stdout",
     "output_type": "stream",
     "text": [
      "INFO:tensorflow:Calling model_fn.\n",
      "INFO:tensorflow:Done calling model_fn.\n",
      "INFO:tensorflow:Graph was finalized.\n",
      "INFO:tensorflow:Restoring parameters from ./models/iris/DNN/model.ckpt-3000\n",
      "INFO:tensorflow:Running local_init_op.\n",
      "INFO:tensorflow:Done running local_init_op.\n",
      "\n",
      "Prediction is \"setosa\", prob: 100.0%, expected \"setosa\"\n",
      "\n",
      "Prediction is \"versicolor\", prob: 100.0%, expected \"versicolor\"\n",
      "\n",
      "Prediction is \"virginica\", prob: 100.0%, expected \"virginica\"\n"
     ]
    }
   ],
   "source": [
    "template = ('\\nPrediction is \"{}\", prob: {:.1f}%, expected \"{}\"')\n",
    "\n",
    "for pred_dict, expec in zip(predictions, expected):\n",
    "    \n",
    "    class_id = pred_dict['class_ids'][0]\n",
    "    probability = pred_dict['probabilities'][class_id]\n",
    "    pred_label = labels[class_id]\n",
    "\n",
    "    print(template.format(pred_label, 100 * probability, expec))"
   ]
  },
  {
   "cell_type": "code",
   "execution_count": 25,
   "metadata": {},
   "outputs": [
    {
     "data": {
      "text/plain": [
       "{'logits': array([-11.172512 ,  -3.681687 ,   4.2100463], dtype=float32),\n",
       " 'probabilities': array([2.0858215e-07, 3.7368131e-04, 9.9962604e-01], dtype=float32),\n",
       " 'class_ids': array([2]),\n",
       " 'classes': array([b'virginica'], dtype=object)}"
      ]
     },
     "execution_count": 25,
     "metadata": {},
     "output_type": "execute_result"
    }
   ],
   "source": [
    "pred_dict"
   ]
  },
  {
   "cell_type": "markdown",
   "metadata": {},
   "source": [
    "## Exercise 1\n",
    "\n",
    "The `tf.estimator` module offers 2 additional canned classifiers:\n",
    "\n",
    "- `tf.estimator.BaselineClassifier`\n",
    "- `tf.estimator.LinearClassifier`\n",
    "\n",
    "What do they do?\n",
    "- BaslineClassifier establishes baseline, very conveinent.  Baselines!\n",
    "\n",
    "Try substituting them in the model definition and re-run the trainin, evaluation and prediction steps.\n",
    "Is the performance better or worse?\n",
    "\n",
    "Note: you can set the logging level of tensorflow with `tf.logging.set_verbosity`"
   ]
  },
  {
   "cell_type": "code",
   "execution_count": 38,
   "metadata": {},
   "outputs": [],
   "source": [
    "rm -rf ./models/iris/"
   ]
  },
  {
   "cell_type": "code",
   "execution_count": 39,
   "metadata": {
    "collapsed": true
   },
   "outputs": [
    {
     "name": "stdout",
     "output_type": "stream",
     "text": [
      "INFO:tensorflow:Using default config.\n",
      "INFO:tensorflow:Using config: {'_model_dir': './models/iris/DNN/', '_tf_random_seed': None, '_save_summary_steps': 100, '_save_checkpoints_steps': None, '_save_checkpoints_secs': 600, '_session_config': None, '_keep_checkpoint_max': 5, '_keep_checkpoint_every_n_hours': 10000, '_log_step_count_steps': 100, '_train_distribute': None, '_device_fn': None, '_service': None, '_cluster_spec': <tensorflow.python.training.server_lib.ClusterSpec object at 0x7fc943709c18>, '_task_type': 'worker', '_task_id': 0, '_global_id_in_cluster': 0, '_master': '', '_evaluation_master': '', '_is_chief': True, '_num_ps_replicas': 0, '_num_worker_replicas': 1}\n"
     ]
    }
   ],
   "source": [
    "model_b = tf.estimator.BaselineClassifier(\n",
    "#     hidden_units=[10, 10], \n",
    "#     feature_columns=feature_columns,\n",
    "    model_dir='./models/iris/DNN/',\n",
    "    n_classes=3,\n",
    "    label_vocabulary=labels,\n",
    "    optimizer='Adam')"
   ]
  },
  {
   "cell_type": "code",
   "execution_count": 40,
   "metadata": {},
   "outputs": [
    {
     "name": "stdout",
     "output_type": "stream",
     "text": [
      "INFO:tensorflow:Calling model_fn.\n",
      "INFO:tensorflow:Done calling model_fn.\n",
      "INFO:tensorflow:Create CheckpointSaverHook.\n",
      "INFO:tensorflow:Graph was finalized.\n",
      "INFO:tensorflow:Running local_init_op.\n",
      "INFO:tensorflow:Done running local_init_op.\n",
      "INFO:tensorflow:Saving checkpoints for 0 into ./models/iris/DNN/model.ckpt.\n",
      "INFO:tensorflow:loss = 35.155594, step = 0\n",
      "INFO:tensorflow:global_step/sec: 287.335\n",
      "INFO:tensorflow:loss = 35.07624, step = 100 (0.349 sec)\n",
      "INFO:tensorflow:global_step/sec: 326.553\n",
      "INFO:tensorflow:loss = 35.296143, step = 200 (0.306 sec)\n",
      "INFO:tensorflow:global_step/sec: 328.66\n",
      "INFO:tensorflow:loss = 35.4709, step = 300 (0.306 sec)\n",
      "INFO:tensorflow:global_step/sec: 320.576\n",
      "INFO:tensorflow:loss = 34.787323, step = 400 (0.310 sec)\n",
      "INFO:tensorflow:global_step/sec: 296.859\n",
      "INFO:tensorflow:loss = 35.4934, step = 500 (0.339 sec)\n",
      "INFO:tensorflow:global_step/sec: 273.848\n",
      "INFO:tensorflow:loss = 35.76622, step = 600 (0.364 sec)\n",
      "INFO:tensorflow:global_step/sec: 294.144\n",
      "INFO:tensorflow:loss = 34.759003, step = 700 (0.339 sec)\n",
      "INFO:tensorflow:global_step/sec: 299.806\n",
      "INFO:tensorflow:loss = 35.4511, step = 800 (0.334 sec)\n",
      "INFO:tensorflow:global_step/sec: 301.276\n",
      "INFO:tensorflow:loss = 35.14814, step = 900 (0.333 sec)\n",
      "INFO:tensorflow:global_step/sec: 316.269\n",
      "INFO:tensorflow:loss = 36.00427, step = 1000 (0.319 sec)\n",
      "INFO:tensorflow:global_step/sec: 301.474\n",
      "INFO:tensorflow:loss = 35.072876, step = 1100 (0.330 sec)\n",
      "INFO:tensorflow:global_step/sec: 295.428\n",
      "INFO:tensorflow:loss = 35.289513, step = 1200 (0.337 sec)\n",
      "INFO:tensorflow:global_step/sec: 301.468\n",
      "INFO:tensorflow:loss = 35.199677, step = 1300 (0.332 sec)\n",
      "INFO:tensorflow:global_step/sec: 315.641\n",
      "INFO:tensorflow:loss = 37.954365, step = 1400 (0.316 sec)\n",
      "INFO:tensorflow:global_step/sec: 299.362\n",
      "INFO:tensorflow:loss = 35.823082, step = 1500 (0.334 sec)\n",
      "INFO:tensorflow:global_step/sec: 316.124\n",
      "INFO:tensorflow:loss = 36.3916, step = 1600 (0.317 sec)\n",
      "INFO:tensorflow:global_step/sec: 315.347\n",
      "INFO:tensorflow:loss = 35.317715, step = 1700 (0.316 sec)\n",
      "INFO:tensorflow:global_step/sec: 305.565\n",
      "INFO:tensorflow:loss = 34.886482, step = 1800 (0.327 sec)\n",
      "INFO:tensorflow:global_step/sec: 303.063\n",
      "INFO:tensorflow:loss = 34.911057, step = 1900 (0.330 sec)\n",
      "INFO:tensorflow:global_step/sec: 312.447\n",
      "INFO:tensorflow:loss = 36.52375, step = 2000 (0.320 sec)\n",
      "INFO:tensorflow:global_step/sec: 296.713\n",
      "INFO:tensorflow:loss = 35.327255, step = 2100 (0.337 sec)\n",
      "INFO:tensorflow:global_step/sec: 303.618\n",
      "INFO:tensorflow:loss = 35.201477, step = 2200 (0.329 sec)\n",
      "INFO:tensorflow:global_step/sec: 305.017\n",
      "INFO:tensorflow:loss = 35.539238, step = 2300 (0.328 sec)\n",
      "INFO:tensorflow:global_step/sec: 303.763\n",
      "INFO:tensorflow:loss = 35.275036, step = 2400 (0.330 sec)\n",
      "INFO:tensorflow:global_step/sec: 304.935\n",
      "INFO:tensorflow:loss = 35.123558, step = 2500 (0.328 sec)\n",
      "INFO:tensorflow:global_step/sec: 308.222\n",
      "INFO:tensorflow:loss = 35.085396, step = 2600 (0.324 sec)\n",
      "INFO:tensorflow:global_step/sec: 316.045\n",
      "INFO:tensorflow:loss = 35.066246, step = 2700 (0.319 sec)\n",
      "INFO:tensorflow:global_step/sec: 302.595\n",
      "INFO:tensorflow:loss = 35.03766, step = 2800 (0.328 sec)\n",
      "INFO:tensorflow:global_step/sec: 306.612\n",
      "INFO:tensorflow:loss = 35.013283, step = 2900 (0.330 sec)\n",
      "INFO:tensorflow:Saving checkpoints for 3000 into ./models/iris/DNN/model.ckpt.\n",
      "INFO:tensorflow:Loss for final step: 35.21334.\n"
     ]
    },
    {
     "data": {
      "text/plain": [
       "<tensorflow.python.estimator.canned.baseline.BaselineClassifier at 0x7fc943709908>"
      ]
     },
     "execution_count": 40,
     "metadata": {},
     "output_type": "execute_result"
    }
   ],
   "source": [
    "model_b.train(\n",
    "    input_fn=train_input_fn,\n",
    "    steps=3000)"
   ]
  },
  {
   "cell_type": "code",
   "execution_count": 41,
   "metadata": {},
   "outputs": [
    {
     "name": "stdout",
     "output_type": "stream",
     "text": [
      "INFO:tensorflow:Calling model_fn.\n",
      "INFO:tensorflow:Done calling model_fn.\n",
      "INFO:tensorflow:Starting evaluation at 2018-09-21-17:26:20\n",
      "INFO:tensorflow:Graph was finalized.\n",
      "INFO:tensorflow:Restoring parameters from ./models/iris/DNN/model.ckpt-3000\n",
      "INFO:tensorflow:Running local_init_op.\n",
      "INFO:tensorflow:Done running local_init_op.\n",
      "INFO:tensorflow:Finished evaluation at 2018-09-21-17:26:20\n",
      "INFO:tensorflow:Saving dict for global step 3000: accuracy = 0.32380953, average_loss = 1.0999843, global_step = 3000, loss = 28.874586\n",
      "INFO:tensorflow:Saving 'checkpoint_path' summary for global step 3000: ./models/iris/DNN/model.ckpt-3000\n",
      "INFO:tensorflow:Calling model_fn.\n",
      "INFO:tensorflow:Done calling model_fn.\n",
      "INFO:tensorflow:Starting evaluation at 2018-09-21-17:26:21\n",
      "INFO:tensorflow:Graph was finalized.\n",
      "INFO:tensorflow:Restoring parameters from ./models/iris/DNN/model.ckpt-3000\n",
      "INFO:tensorflow:Running local_init_op.\n",
      "INFO:tensorflow:Done running local_init_op.\n",
      "INFO:tensorflow:Finished evaluation at 2018-09-21-17:26:21\n",
      "INFO:tensorflow:Saving dict for global step 3000: accuracy = 0.35555556, average_loss = 1.1142064, global_step = 3000, loss = 25.069645\n",
      "INFO:tensorflow:Saving 'checkpoint_path' summary for global step 3000: ./models/iris/DNN/model.ckpt-3000\n"
     ]
    }
   ],
   "source": [
    "train_eval_result = model_b.evaluate(\n",
    "    input_fn=lambda:input_fn(X_train, y_train,\n",
    "                             batch_size,\n",
    "                             shuffle=False,\n",
    "                             repeat=1))\n",
    "\n",
    "test_eval_result = model_b.evaluate(\n",
    "    input_fn=lambda:input_fn(X_test, y_test,\n",
    "                             batch_size,\n",
    "                             shuffle=False,\n",
    "                             repeat=1))"
   ]
  },
  {
   "cell_type": "code",
   "execution_count": 42,
   "metadata": {},
   "outputs": [
    {
     "name": "stdout",
     "output_type": "stream",
     "text": [
      "{'accuracy': 0.32380953, 'average_loss': 1.0999843, 'loss': 28.874586, 'global_step': 3000}\n",
      "{'accuracy': 0.35555556, 'average_loss': 1.1142064, 'loss': 25.069645, 'global_step': 3000}\n"
     ]
    }
   ],
   "source": [
    "print(train_eval_result)\n",
    "print(test_eval_result)"
   ]
  },
  {
   "cell_type": "code",
   "execution_count": null,
   "metadata": {},
   "outputs": [],
   "source": [
    "# TODO: LinearClassifier"
   ]
  },
  {
   "cell_type": "markdown",
   "metadata": {},
   "source": [
    "## Exercise 2\n",
    "\n",
    "Visualize the training results with tensorboard:\n",
    "\n",
    "- in a terminal, from the notebook folder, run tensorboard with `tensorboard --logdir=models`\n",
    "- open the browser at [http://localhost:6006](http://localhost:6006)\n",
    "\n"
   ]
  },
  {
   "cell_type": "code",
   "execution_count": null,
   "metadata": {
    "collapsed": true
   },
   "outputs": [],
   "source": []
  }
 ],
 "metadata": {
  "kernelspec": {
   "display_name": "Python 3",
   "language": "python",
   "name": "python3"
  },
  "language_info": {
   "codemirror_mode": {
    "name": "ipython",
    "version": 3
   },
   "file_extension": ".py",
   "mimetype": "text/x-python",
   "name": "python",
   "nbconvert_exporter": "python",
   "pygments_lexer": "ipython3",
   "version": "3.6.6"
  }
 },
 "nbformat": 4,
 "nbformat_minor": 2
}
