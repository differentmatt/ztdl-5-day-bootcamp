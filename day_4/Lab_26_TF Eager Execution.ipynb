{
 "cells": [
  {
   "cell_type": "markdown",
   "metadata": {},
   "source": [
    "# Eager Execution\n",
    "\n",
    "Adapted from: https://www.tensorflow.org/get_started/eager"
   ]
  },
  {
   "cell_type": "code",
   "execution_count": 1,
   "metadata": {},
   "outputs": [],
   "source": [
    "import os\n",
    "import matplotlib.pyplot as plt\n",
    "\n",
    "import tensorflow as tf\n",
    "import tensorflow.contrib.eager as tfe\n",
    "tf.enable_eager_execution()"
   ]
  },
  {
   "cell_type": "code",
   "execution_count": 2,
   "metadata": {},
   "outputs": [],
   "source": [
    "import pandas as pd\n",
    "import numpy as np\n",
    "%matplotlib inline\n",
    "import matplotlib.pyplot as plt"
   ]
  },
  {
   "cell_type": "code",
   "execution_count": 3,
   "metadata": {},
   "outputs": [],
   "source": [
    "train_dataset_fp = '../data/iris_training.csv'"
   ]
  },
  {
   "cell_type": "code",
   "execution_count": 4,
   "metadata": {},
   "outputs": [
    {
     "name": "stdout",
     "output_type": "stream",
     "text": [
      "120,4,setosa,versicolor,virginica\n",
      "6.4,2.8,5.6,2.2,2\n",
      "5.0,2.3,3.3,1.0,1\n",
      "4.9,2.5,4.5,1.7,2\n",
      "4.9,3.1,1.5,0.1,0\n"
     ]
    }
   ],
   "source": [
    "!head -n5 {train_dataset_fp}"
   ]
  },
  {
   "cell_type": "markdown",
   "metadata": {},
   "source": [
    "## Csv parser"
   ]
  },
  {
   "cell_type": "code",
   "execution_count": 5,
   "metadata": {},
   "outputs": [],
   "source": [
    "# pandas fine for small datasets, but not big datasets\n",
    "# So, use a tool like Spark, or do directly via this tf dataset API\n",
    "def parse_csv(line):\n",
    "    example_defaults = [[0.], [0.], [0.], [0.], [0]]\n",
    "    parsed_line = tf.decode_csv(line, example_defaults)\n",
    "    features = tf.reshape(parsed_line[:-1], shape=(4,))\n",
    "    label = tf.reshape(parsed_line[-1], shape=())\n",
    "    return features, label"
   ]
  },
  {
   "cell_type": "markdown",
   "metadata": {},
   "source": [
    "## Dataset API"
   ]
  },
  {
   "cell_type": "code",
   "execution_count": 6,
   "metadata": {},
   "outputs": [],
   "source": [
    "# apply some transformations to dataset\n",
    "# similar to spark rdd\n",
    "train_dataset = tf.data.TextLineDataset(train_dataset_fp)\n",
    "train_dataset = train_dataset.skip(1)\n",
    "train_dataset = train_dataset.map(parse_csv)\n",
    "train_dataset = train_dataset.shuffle(buffer_size=1000)\n",
    "train_dataset = train_dataset.batch(32)"
   ]
  },
  {
   "cell_type": "code",
   "execution_count": 7,
   "metadata": {},
   "outputs": [
    {
     "data": {
      "text/plain": [
       "<BatchDataset shapes: ((?, 4), (?,)), types: (tf.float32, tf.int32)>"
      ]
     },
     "execution_count": 7,
     "metadata": {},
     "output_type": "execute_result"
    }
   ],
   "source": [
    "train_dataset"
   ]
  },
  {
   "cell_type": "code",
   "execution_count": 8,
   "metadata": {},
   "outputs": [],
   "source": [
    "features, label = tfe.Iterator(train_dataset).next()"
   ]
  },
  {
   "cell_type": "code",
   "execution_count": 9,
   "metadata": {},
   "outputs": [
    {
     "data": {
      "text/plain": [
       "<tf.Tensor: id=41, shape=(32, 4), dtype=float32, numpy=\n",
       "array([[5. , 2.3, 3.3, 1. ],\n",
       "       [6.5, 3. , 5.5, 1.8],\n",
       "       [7.3, 2.9, 6.3, 1.8],\n",
       "       [4.7, 3.2, 1.6, 0.2],\n",
       "       [7.7, 3. , 6.1, 2.3],\n",
       "       [5.1, 3.5, 1.4, 0.3],\n",
       "       [6.9, 3.1, 5.1, 2.3],\n",
       "       [6.2, 2.2, 4.5, 1.5],\n",
       "       [6.5, 2.8, 4.6, 1.5],\n",
       "       [4.6, 3.6, 1. , 0.2],\n",
       "       [5.4, 3.9, 1.7, 0.4],\n",
       "       [5.1, 3.8, 1.9, 0.4],\n",
       "       [5.8, 2.7, 4.1, 1. ],\n",
       "       [5.1, 2.5, 3. , 1.1],\n",
       "       [6.8, 3. , 5.5, 2.1],\n",
       "       [5. , 2. , 3.5, 1. ],\n",
       "       [7.4, 2.8, 6.1, 1.9],\n",
       "       [5.7, 2.8, 4.1, 1.3],\n",
       "       [6.2, 2.8, 4.8, 1.8],\n",
       "       [5.4, 3.4, 1.5, 0.4],\n",
       "       [6.4, 3.2, 4.5, 1.5],\n",
       "       [6.8, 2.8, 4.8, 1.4],\n",
       "       [7.2, 3.6, 6.1, 2.5],\n",
       "       [4.8, 3. , 1.4, 0.1],\n",
       "       [7.6, 3. , 6.6, 2.1],\n",
       "       [6.1, 2.8, 4.7, 1.2],\n",
       "       [6. , 3. , 4.8, 1.8],\n",
       "       [5.7, 3. , 4.2, 1.2],\n",
       "       [4.8, 3. , 1.4, 0.3],\n",
       "       [6. , 2.9, 4.5, 1.5],\n",
       "       [6.6, 2.9, 4.6, 1.3],\n",
       "       [6.7, 3.3, 5.7, 2.1]], dtype=float32)>"
      ]
     },
     "execution_count": 9,
     "metadata": {},
     "output_type": "execute_result"
    }
   ],
   "source": [
    "features"
   ]
  },
  {
   "cell_type": "code",
   "execution_count": 10,
   "metadata": {},
   "outputs": [
    {
     "data": {
      "text/plain": [
       "<tf.Tensor: id=42, shape=(32,), dtype=int32, numpy=\n",
       "array([1, 2, 2, 0, 2, 0, 2, 1, 1, 0, 0, 0, 1, 1, 2, 1, 2, 1, 2, 0, 1, 1,\n",
       "       2, 0, 2, 1, 2, 1, 0, 1, 1, 2], dtype=int32)>"
      ]
     },
     "execution_count": 10,
     "metadata": {},
     "output_type": "execute_result"
    }
   ],
   "source": [
    "label"
   ]
  },
  {
   "cell_type": "markdown",
   "metadata": {},
   "source": [
    "## Model"
   ]
  },
  {
   "cell_type": "markdown",
   "metadata": {},
   "source": [
    "Note that the model is outputting the logits, not the softmax probabilities."
   ]
  },
  {
   "cell_type": "code",
   "execution_count": 11,
   "metadata": {},
   "outputs": [],
   "source": [
    "# No compile because all it does is create a tensorflow graph, don't need in eager mode\n",
    "# No model.fit, model(features)\n",
    "# No output classification softmax, which we'd expect since we're classifying \n",
    "# But, model(feautures) still outputing 3 numbers we need to pick one value to classify (see Loss section)\n",
    "model = tf.keras.Sequential([\n",
    "  tf.keras.layers.Dense(10, activation=\"relu\", input_shape=(4,)),\n",
    "  tf.keras.layers.Dense(10, activation=\"relu\"),\n",
    "  tf.keras.layers.Dense(3)\n",
    "])"
   ]
  },
  {
   "cell_type": "code",
   "execution_count": 12,
   "metadata": {},
   "outputs": [
    {
     "data": {
      "text/plain": [
       "<tensorflow.python.keras.engine.sequential.Sequential at 0x7f32ac094438>"
      ]
     },
     "execution_count": 12,
     "metadata": {},
     "output_type": "execute_result"
    }
   ],
   "source": [
    "model"
   ]
  },
  {
   "cell_type": "markdown",
   "metadata": {},
   "source": [
    "model behaves like a function:"
   ]
  },
  {
   "cell_type": "code",
   "execution_count": 13,
   "metadata": {},
   "outputs": [
    {
     "data": {
      "text/plain": [
       "<tf.Tensor: id=128, shape=(32, 3), dtype=float32, numpy=\n",
       "array([[-6.0962253 ,  0.89741874, -1.2412481 ],\n",
       "       [-8.036495  ,  1.3397778 , -1.468551  ],\n",
       "       [-8.655273  ,  1.4394779 , -1.7768468 ],\n",
       "       [-6.4089518 ,  0.82139236, -1.1069876 ],\n",
       "       [-9.098348  ,  1.4673537 , -1.916502  ],\n",
       "       [-6.9801283 ,  0.8774224 , -1.2324752 ],\n",
       "       [-8.502437  ,  1.3892742 , -1.6590663 ],\n",
       "       [-7.0897593 ,  1.0530822 , -1.639731  ],\n",
       "       [-7.8112297 ,  1.1820266 , -1.619966  ],\n",
       "       [-6.623498  ,  0.8771488 , -1.072196  ],\n",
       "       [-7.562397  ,  0.9972783 , -1.2348311 ],\n",
       "       [-7.245529  ,  0.9939742 , -1.105639  ],\n",
       "       [-7.0803847 ,  1.0511938 , -1.4029241 ],\n",
       "       [-6.3430457 ,  0.92346567, -1.2717996 ],\n",
       "       [-8.322884  ,  1.3792034 , -1.5950783 ],\n",
       "       [-5.8629484 ,  0.85582817, -1.287231  ],\n",
       "       [-8.652611  ,  1.3956472 , -1.8510089 ],\n",
       "       [-7.122948  ,  1.108681  , -1.3341181 ],\n",
       "       [-7.6177382 ,  1.2366433 , -1.4650671 ],\n",
       "       [-7.16029   ,  0.8805303 , -1.372369  ],\n",
       "       [-8.045613  ,  1.2518698 , -1.4965262 ],\n",
       "       [-8.044007  ,  1.1884017 , -1.7273462 ],\n",
       "       [-9.196251  ,  1.6038841 , -1.5576293 ],\n",
       "       [-6.311275  ,  0.7517444 , -1.2197261 ],\n",
       "       [-9.053399  ,  1.5604876 , -1.8711474 ],\n",
       "       [-7.446524  ,  1.1510614 , -1.4389219 ],\n",
       "       [-7.61496   ,  1.2753633 , -1.3329908 ],\n",
       "       [-7.269639  ,  1.1444496 , -1.2777417 ],\n",
       "       [-6.3405776 ,  0.7771635 , -1.2178817 ],\n",
       "       [-7.4840956 ,  1.1907628 , -1.3929538 ],\n",
       "       [-7.942163  ,  1.1768329 , -1.641969  ],\n",
       "       [-8.4853325 ,  1.4559343 , -1.4603229 ]], dtype=float32)>"
      ]
     },
     "execution_count": 13,
     "metadata": {},
     "output_type": "execute_result"
    }
   ],
   "source": [
    "model(features)"
   ]
  },
  {
   "cell_type": "markdown",
   "metadata": {},
   "source": [
    "In eager mode we can access the values of the weights directly:"
   ]
  },
  {
   "cell_type": "code",
   "execution_count": 14,
   "metadata": {},
   "outputs": [
    {
     "name": "stdout",
     "output_type": "stream",
     "text": [
      "Weight shape:  (4, 10)\n",
      "Weight tensor:  <tf.Variable 'dense/kernel:0' shape=(4, 10) dtype=float32, numpy=\n",
      "array([[ 0.51832306,  0.23540789, -0.1653719 ,  0.57931423, -0.5936954 ,\n",
      "         0.32445633,  0.5442407 , -0.50623035, -0.52088237,  0.62775946],\n",
      "       [ 0.6132349 , -0.25912276,  0.5377127 ,  0.42374802,  0.48477614,\n",
      "        -0.08954698,  0.33349657, -0.04464889, -0.0953148 , -0.38139927],\n",
      "       [-0.32950556, -0.35746995,  0.49356198, -0.25178507, -0.06889457,\n",
      "         0.31853676,  0.6212263 ,  0.38923705,  0.1455915 , -0.56983095],\n",
      "       [ 0.44904566, -0.21505016, -0.0997889 , -0.58980393, -0.54495734,\n",
      "        -0.04370207,  0.06355566,  0.010939  ,  0.20607501,  0.32304007]],\n",
      "      dtype=float32)>\n",
      "\n",
      "Weight shape:  (10,)\n",
      "Weight tensor:  <tf.Variable 'dense/bias:0' shape=(10,) dtype=float32, numpy=array([0., 0., 0., 0., 0., 0., 0., 0., 0., 0.], dtype=float32)>\n",
      "\n",
      "Weight shape:  (10, 10)\n",
      "Weight tensor:  <tf.Variable 'dense_1/kernel:0' shape=(10, 10) dtype=float32, numpy=\n",
      "array([[-0.4568165 ,  0.47381723,  0.36620408, -0.13524881, -0.28592402,\n",
      "         0.14142376,  0.51159966, -0.4388836 , -0.43271858,  0.4437328 ],\n",
      "       [-0.3769368 , -0.44049662, -0.3366449 ,  0.27260453,  0.20318002,\n",
      "         0.05790693,  0.51988566,  0.0691722 , -0.26935562, -0.10406551],\n",
      "       [ 0.1631481 ,  0.3978399 ,  0.10273796,  0.4721918 , -0.16828933,\n",
      "        -0.02731848, -0.11472192, -0.15260425, -0.17003071, -0.46271682],\n",
      "       [-0.5144474 ,  0.40219903, -0.0731982 ,  0.29767442,  0.5119152 ,\n",
      "        -0.4319665 ,  0.48014426, -0.03593606,  0.18977201, -0.3337999 ],\n",
      "       [-0.32136044,  0.29025328, -0.06309846,  0.25585812, -0.08995411,\n",
      "        -0.04614168, -0.19228199,  0.07240868, -0.01028651,  0.5160465 ],\n",
      "       [-0.40073672,  0.1577276 ,  0.49325645, -0.28085855,  0.22615439,\n",
      "         0.4544282 , -0.44806337, -0.22446159,  0.11915094, -0.29367882],\n",
      "       [ 0.49598444,  0.249013  ,  0.33863544,  0.48340225, -0.27982143,\n",
      "         0.10129571,  0.10175395, -0.4194312 ,  0.38887233,  0.43228936],\n",
      "       [-0.02890718, -0.13069916,  0.36341423,  0.41635472, -0.32004255,\n",
      "        -0.06402066,  0.22309875, -0.12434936, -0.52453774,  0.4187135 ],\n",
      "       [-0.08000466,  0.07358027,  0.13472539, -0.48304272, -0.1447762 ,\n",
      "         0.28759634,  0.45715404,  0.5296664 , -0.3271102 , -0.19254592],\n",
      "       [ 0.2989412 , -0.43074632,  0.31570286, -0.50708175,  0.3165505 ,\n",
      "        -0.13332656,  0.31755632,  0.38581675,  0.4465462 ,  0.3729112 ]],\n",
      "      dtype=float32)>\n",
      "\n",
      "Weight shape:  (10,)\n",
      "Weight tensor:  <tf.Variable 'dense_1/bias:0' shape=(10,) dtype=float32, numpy=array([0., 0., 0., 0., 0., 0., 0., 0., 0., 0.], dtype=float32)>\n",
      "\n",
      "Weight shape:  (10, 3)\n",
      "Weight tensor:  <tf.Variable 'dense_2/kernel:0' shape=(10, 3) dtype=float32, numpy=\n",
      "array([[-0.3227326 ,  0.4564792 , -0.3246089 ],\n",
      "       [-0.2953963 , -0.454609  ,  0.29365623],\n",
      "       [-0.20965222,  0.28850514, -0.20552772],\n",
      "       [-0.5374001 ,  0.46692193, -0.01941431],\n",
      "       [-0.6680276 , -0.03949142, -0.60920984],\n",
      "       [ 0.07174438,  0.29627407, -0.30774048],\n",
      "       [-0.47271746,  0.31825644, -0.41896674],\n",
      "       [ 0.26306736,  0.4459598 ,  0.25160939],\n",
      "       [-0.07749671, -0.3838805 , -0.58405274],\n",
      "       [-0.5739963 , -0.02154607,  0.2725305 ]], dtype=float32)>\n",
      "\n",
      "Weight shape:  (3,)\n",
      "Weight tensor:  <tf.Variable 'dense_2/bias:0' shape=(3,) dtype=float32, numpy=array([0., 0., 0.], dtype=float32)>\n",
      "\n"
     ]
    }
   ],
   "source": [
    "for i, v in enumerate(model.variables):\n",
    "    print(\"Weight shape: \", v.shape)\n",
    "    print(\"Weight tensor: \", v)\n",
    "    print()\n"
   ]
  },
  {
   "cell_type": "markdown",
   "metadata": {},
   "source": [
    "## Loss\n",
    "\n",
    "Loss is sparse categorical cross entropy"
   ]
  },
  {
   "cell_type": "code",
   "execution_count": 15,
   "metadata": {},
   "outputs": [],
   "source": [
    "def loss(model, x, y):\n",
    "    y_ = model(x) # predictions\n",
    "    return tf.losses.sparse_softmax_cross_entropy(labels=y, logits=y_)"
   ]
  },
  {
   "cell_type": "code",
   "execution_count": 16,
   "metadata": {},
   "outputs": [
    {
     "data": {
      "text/plain": [
       "<tf.Tensor: id=193, shape=(), dtype=float32, numpy=3.0506945>"
      ]
     },
     "execution_count": 16,
     "metadata": {},
     "output_type": "execute_result"
    }
   ],
   "source": [
    "loss(model, features, label)"
   ]
  },
  {
   "cell_type": "markdown",
   "metadata": {},
   "source": [
    "## Gradients\n",
    "\n",
    "In eager mode we can evaluate the gradients, which is helpful for debugging"
   ]
  },
  {
   "cell_type": "code",
   "execution_count": 17,
   "metadata": {},
   "outputs": [],
   "source": [
    "def grad(model, inputs, targets):\n",
    "    with tfe.GradientTape() as tape:\n",
    "        loss_value = loss(model, inputs, targets)\n",
    "    return tape.gradient(loss_value, model.variables)"
   ]
  },
  {
   "cell_type": "code",
   "execution_count": 18,
   "metadata": {},
   "outputs": [],
   "source": [
    "grads = grad(model, features, label)"
   ]
  },
  {
   "cell_type": "code",
   "execution_count": 19,
   "metadata": {},
   "outputs": [
    {
     "name": "stdout",
     "output_type": "stream",
     "text": [
      "Gradient shape:  (4, 10)\n",
      "Gradient tensor:  tf.Tensor(\n",
      "[[ 0.66411257  0.          0.28524128  0.015228    0.         -0.8462511\n",
      "   1.9846631   0.          0.          0.93759036]\n",
      " [ 0.54853165  0.          0.1703124   0.09995704  0.         -0.5209032\n",
      "   1.1002431   0.          0.          0.39036477]\n",
      " [ 0.03102453  0.          0.12880442 -0.15084471  0.         -0.35536817\n",
      "   1.1188843   0.          0.          0.8007458 ]\n",
      " [-0.02723662  0.          0.03253525 -0.05761655  0.         -0.08646532\n",
      "   0.3439806   0.          0.          0.2858469 ]], shape=(4, 10), dtype=float32)\n",
      "\n",
      "Gradient shape:  (10,)\n",
      "Gradient tensor:  tf.Tensor(\n",
      "[ 0.15404978  0.          0.0514803   0.0230708   0.         -0.15620232\n",
      "  0.33685777  0.          0.          0.12867033], shape=(10,), dtype=float32)\n",
      "\n",
      "Gradient shape:  (10, 10)\n",
      "Gradient tensor:  tf.Tensor(\n",
      "[[ 0.4261525  -1.0990418   1.1501377   1.6872939   0.          0.9705759\n",
      "   1.767706    0.         -0.08290696  0.23233041]\n",
      " [ 0.          0.          0.          0.          0.          0.\n",
      "   0.          0.          0.          0.        ]\n",
      " [ 0.30408862 -0.7380685   0.65633047  0.8671234   0.          0.62938756\n",
      "   0.99988157  0.          0.04736458 -0.02557347]\n",
      " [ 0.26473668 -0.6639379   0.8110867   1.2858202   0.          0.6091813\n",
      "   1.2554847   0.         -0.15332976  0.322308  ]\n",
      " [ 0.          0.          0.          0.          0.          0.\n",
      "   0.          0.          0.          0.        ]\n",
      " [ 0.38457763 -0.8758576   0.75222224  0.96795213  0.          0.7426015\n",
      "   1.1435721   0.          0.07985839 -0.07203012]\n",
      " [ 0.85589457 -2.013628    1.800425    2.3881783   0.          1.7202592\n",
      "   2.7437253   0.          0.12052193 -0.05443799]\n",
      " [ 0.          0.          0.          0.          0.          0.\n",
      "   0.          0.          0.          0.        ]\n",
      " [ 0.          0.          0.          0.          0.          0.\n",
      "   0.          0.          0.          0.        ]\n",
      " [ 0.06324215 -0.15395296  0.2066845   0.3408102   0.          0.14522643\n",
      "   0.32114595  0.         -0.05207831  0.10385838]], shape=(10, 10), dtype=float32)\n",
      "\n",
      "Gradient shape:  (10,)\n",
      "Gradient tensor:  tf.Tensor(\n",
      "[ 0.09421256 -0.24095221  0.25724086  0.38157788  0.          0.21381639\n",
      "  0.3957554   0.         -0.02269266  0.05889506], shape=(10,), dtype=float32)\n",
      "\n",
      "Gradient shape:  (10, 3)\n",
      "Gradient tensor:  tf.Tensor(\n",
      "[[ 3.34376750e-07  1.03017725e-02 -1.03021068e-02]\n",
      " [-1.31733072e+00  3.24836969e+00 -1.93103874e+00]\n",
      " [-1.07872903e+00  2.97707534e+00 -1.89834619e+00]\n",
      " [-6.58696771e-01  1.91756010e+00 -1.25886333e+00]\n",
      " [ 0.00000000e+00  0.00000000e+00  0.00000000e+00]\n",
      " [-2.14173384e-02  5.91710329e-01 -5.70293009e-01]\n",
      " [-9.67050195e-01  1.64028716e+00 -6.73236728e-01]\n",
      " [ 0.00000000e+00  0.00000000e+00  0.00000000e+00]\n",
      " [-2.77508497e-01  8.61384809e-01 -5.83876312e-01]\n",
      " [-4.51383650e-01  1.15078235e+00 -6.99398637e-01]], shape=(10, 3), dtype=float32)\n",
      "\n",
      "Gradient shape:  (3,)\n",
      "Gradient tensor:  tf.Tensor([-0.24973382  0.51861095 -0.2688771 ], shape=(3,), dtype=float32)\n",
      "\n"
     ]
    }
   ],
   "source": [
    "for i, g in enumerate(grads):\n",
    "    print(\"Gradient shape: \", g.shape)\n",
    "    print(\"Gradient tensor: \", g)\n",
    "    print()\n"
   ]
  },
  {
   "cell_type": "markdown",
   "metadata": {},
   "source": [
    "## Optimizer\n",
    "\n",
    "Let's use simple gradient descent"
   ]
  },
  {
   "cell_type": "code",
   "execution_count": 20,
   "metadata": {},
   "outputs": [],
   "source": [
    "optimizer = tf.train.GradientDescentOptimizer(learning_rate=0.01)"
   ]
  },
  {
   "cell_type": "markdown",
   "metadata": {},
   "source": [
    "## Training Loop\n",
    "Gradient descent by hand"
   ]
  },
  {
   "cell_type": "code",
   "execution_count": 27,
   "metadata": {},
   "outputs": [
    {
     "name": "stdout",
     "output_type": "stream",
     "text": [
      "Epoch 000: Loss: 0.128, Accuracy: 96.667%\n",
      "Epoch 050: Loss: 0.094, Accuracy: 97.500%\n",
      "Epoch 100: Loss: 0.094, Accuracy: 97.500%\n",
      "Epoch 150: Loss: 0.093, Accuracy: 97.500%\n",
      "Epoch 200: Loss: 0.080, Accuracy: 96.667%\n"
     ]
    }
   ],
   "source": [
    "train_loss_results = []\n",
    "train_accuracy_results = []\n",
    "\n",
    "num_epochs = 201\n",
    "\n",
    "# Loop over epochs\n",
    "for epoch in range(num_epochs):\n",
    "    \n",
    "    # accumulators for mean loss and accuracy\n",
    "    epoch_loss_avg = tfe.metrics.Mean()\n",
    "    epoch_accuracy = tfe.metrics.Accuracy()\n",
    "\n",
    "    # loop on dataset, for each batch:\n",
    "    for x, y in tfe.Iterator(train_dataset):\n",
    "        # Calculate gradients\n",
    "        grads = grad(model, x, y)\n",
    "        \n",
    "        # Apply gradients to the weights\n",
    "        # w -> w - g\n",
    "        optimizer.apply_gradients(zip(grads, model.variables),\n",
    "                                  global_step=tf.train.get_or_create_global_step())\n",
    "\n",
    "        # accumulate loss\n",
    "        epoch_loss_avg(loss(model, x, y))\n",
    "        \n",
    "        # calculate predictions\n",
    "        y_pred = tf.argmax(model(x), axis=1, output_type=tf.int32)\n",
    "        # acccumulate accuracy\n",
    "        epoch_accuracy(y_pred, y)\n",
    "\n",
    "    # end epoch\n",
    "    train_loss_results.append(epoch_loss_avg.result())\n",
    "    train_accuracy_results.append(epoch_accuracy.result())\n",
    "\n",
    "    if epoch % 50 == 0:\n",
    "        print(\"Epoch {:03d}: Loss: {:.3f}, Accuracy: {:.3%}\".format(epoch,\n",
    "                                                                    epoch_loss_avg.result(),\n",
    "                                                                    epoch_accuracy.result()))"
   ]
  },
  {
   "cell_type": "markdown",
   "metadata": {},
   "source": [
    "## Plot Metrics"
   ]
  },
  {
   "cell_type": "code",
   "execution_count": 22,
   "metadata": {},
   "outputs": [
    {
     "data": {
      "image/png": "[encoded data removed]",
      "text/plain": [
       "<Figure size 864x576 with 2 Axes>"
      ]
     },
     "metadata": {
      "needs_background": "light"
     },
     "output_type": "display_data"
    }
   ],
   "source": [
    "fig, axes = plt.subplots(2, sharex=True, figsize=(12, 8))\n",
    "fig.suptitle('Training Metrics')\n",
    "\n",
    "axes[0].set_ylabel(\"Loss\", fontsize=14)\n",
    "axes[0].plot(train_loss_results)\n",
    "\n",
    "axes[1].set_ylabel(\"Accuracy\", fontsize=14)\n",
    "axes[1].set_xlabel(\"Epoch\", fontsize=14)\n",
    "axes[1].plot(train_accuracy_results)\n",
    "\n",
    "plt.show()"
   ]
  },
  {
   "cell_type": "markdown",
   "metadata": {},
   "source": [
    "## Test"
   ]
  },
  {
   "cell_type": "code",
   "execution_count": 23,
   "metadata": {},
   "outputs": [],
   "source": [
    "test_fp = '../data/iris_test.csv'"
   ]
  },
  {
   "cell_type": "code",
   "execution_count": 24,
   "metadata": {},
   "outputs": [],
   "source": [
    "test_dataset = tf.data.TextLineDataset(test_fp)\n",
    "test_dataset = test_dataset.skip(1)             # skip header row\n",
    "test_dataset = test_dataset.map(parse_csv)      # parse each row with the funcition created earlier\n",
    "test_dataset = test_dataset.shuffle(1000)       # randomize\n",
    "test_dataset = test_dataset.batch(32)           # use the same batch size as the training set"
   ]
  },
  {
   "cell_type": "code",
   "execution_count": 25,
   "metadata": {},
   "outputs": [
    {
     "name": "stdout",
     "output_type": "stream",
     "text": [
      "Test set accuracy: 93.333%\n"
     ]
    }
   ],
   "source": [
    "test_accuracy = tfe.metrics.Accuracy()\n",
    "\n",
    "for (x, y) in tfe.Iterator(test_dataset):\n",
    "    prediction = tf.argmax(model(x), axis=1, output_type=tf.int32)\n",
    "    test_accuracy(prediction, y)\n",
    "\n",
    "print(\"Test set accuracy: {:.3%}\".format(test_accuracy.result()))"
   ]
  },
  {
   "cell_type": "code",
   "execution_count": 26,
   "metadata": {},
   "outputs": [
    {
     "name": "stdout",
     "output_type": "stream",
     "text": [
      "Example 0 prediction: Iris setosa\n",
      "Example 1 prediction: Iris versicolor\n",
      "Example 2 prediction: Iris virginica\n"
     ]
    }
   ],
   "source": [
    "class_ids = [\"Iris setosa\", \"Iris versicolor\", \"Iris virginica\"]\n",
    "\n",
    "predict_dataset = tf.convert_to_tensor([\n",
    "    [5.1, 3.3, 1.7, 0.5,],\n",
    "    [5.9, 3.0, 4.2, 1.5,],\n",
    "    [6.9, 3.1, 5.4, 2.1]\n",
    "])\n",
    "\n",
    "predictions = model(predict_dataset)\n",
    "\n",
    "for i, logits in enumerate(predictions):\n",
    "    class_idx = tf.argmax(logits).numpy()\n",
    "    name = class_ids[class_idx]\n",
    "    print(\"Example {} prediction: {}\".format(i, name))"
   ]
  },
  {
   "cell_type": "code",
   "execution_count": null,
   "metadata": {
    "collapsed": true
   },
   "outputs": [],
   "source": []
  }
 ],
 "metadata": {
  "kernelspec": {
   "display_name": "Python 3",
   "language": "python",
   "name": "python3"
  },
  "language_info": {
   "codemirror_mode": {
    "name": "ipython",
    "version": 3
   },
   "file_extension": ".py",
   "mimetype": "text/x-python",
   "name": "python",
   "nbconvert_exporter": "python",
   "pygments_lexer": "ipython3",
   "version": "3.6.6"
  }
 },
 "nbformat": 4,
 "nbformat_minor": 2
}
